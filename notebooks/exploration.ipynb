{
 "cells": [
  {
   "cell_type": "markdown",
   "id": "07d65222-558d-443a-ab31-97ce415ccba3",
   "metadata": {},
   "source": [
    "### Imports & Configs"
   ]
  },
  {
   "cell_type": "code",
   "execution_count": 4,
   "id": "286cfc6a-500a-4f89-9957-7e9b425872cd",
   "metadata": {},
   "outputs": [],
   "source": [
    "import torch\n",
    "import torch.nn as NN\n",
    "import torchvision\n",
    "\n",
    "from torch.utils.data import Dataset, DataLoader\n",
    "\n",
    "from torchvision.datasets import ImageFolder\n",
    "from torchvision.transforms import RandomResizedCrop, RandomHorizontalFlip, ColorJitter, RandomGrayscale, Compose, GaussianBlur, ToTensor, RandomApply\n",
    "\n",
    "import torchvision.models as models\n",
    "\n",
    "import os\n",
    "import glob\n",
    "import time\n",
    "from skimage import io\n",
    "import matplotlib.pyplot as plt"
   ]
  },
  {
   "cell_type": "code",
   "execution_count": 5,
   "id": "4200a8de-8ac5-4a8d-ae60-9f1655056a40",
   "metadata": {},
   "outputs": [
    {
     "name": "stdout",
     "output_type": "stream",
     "text": [
      "1.13.1+cu117\n"
     ]
    }
   ],
   "source": [
    "print(torch.__version__)"
   ]
  },
  {
   "cell_type": "code",
   "execution_count": 6,
   "id": "002b594f-73a1-4431-8af8-7c657f024eb0",
   "metadata": {},
   "outputs": [
    {
     "name": "stdout",
     "output_type": "stream",
     "text": [
      "cuda\n"
     ]
    }
   ],
   "source": [
    "device = torch.device(\"cuda\" if torch.cuda.is_available() else \"cpu\")\n",
    "print(device)"
   ]
  },
  {
   "cell_type": "markdown",
   "id": "058bc398-f2c6-4eff-88c3-1388aec569b9",
   "metadata": {},
   "source": [
    "### SimCLR is based out of the following simplified modules:\n",
    "\n",
    "* A stochastic data augmentation module.\n",
    "* A neural network base encoder  f(.)\n",
    "* A neural network projection head  g(.)\n",
    "* A contrastive loss function."
   ]
  },
  {
   "cell_type": "markdown",
   "id": "be46d5bb-5fa9-4aa2-8b15-a08306a7dba6",
   "metadata": {},
   "source": [
    "### Stochastic Augmentation\n",
    "\n",
    "* Author suggest that composition of data augmentation operations is crucial for learning good representations.\n",
    "* Contrastive learning needs stronger data augmentation than supervised learning\n"
   ]
  },
  {
   "cell_type": "code",
   "execution_count": 8,
   "id": "b0cd861d-cfa7-4520-93b2-61b43322708c",
   "metadata": {},
   "outputs": [],
   "source": [
    "def complete_image_transform(output_shape, kernel_size, s=1.0):\n",
    "    \"\"\"\n",
    "    This method will transform the image as suggested by author\n",
    "    - Random Crop with Resize\n",
    "    - Random Horizontal Flip with 50% probability\n",
    "    - Random Color Distortion\n",
    "       - Random Color Jitter with 80% probability\n",
    "       - Random Color Drop with 20% probability\n",
    "    - Random Gaussian Blur with 50% probability\n",
    "    \n",
    "    s = filter strength paramter \n",
    "    \"\"\"\n",
    "    random_crop = RandomResizedCrop(output_shape)\n",
    "    random_flip = RandomHorizontalFlip(p=0.5)\n",
    "    \n",
    "    color_jitter = ColorJitter(brightness=0.8*s, contrast=0.8*s, saturation=0.8*s, hue=0.2*S)\n",
    "    random_color_jitter = RandomApply([color_jitter], p=0.8)\n",
    "    \n",
    "    random_gray = RandomGrayscale(p=0.2)\n",
    "    gaussian_blur = GaussianBlur(kernel_size=kernel_size)\n",
    "    random_gaussian_blur = RandomApply([gaussian_blur], p=0.5)\n",
    "    \n",
    "    to_tensor = ToTensor()\n",
    "    \n",
    "    image_transform = Compose([\n",
    "        to_tensor,\n",
    "        random_crop,\n",
    "        random_flip,\n",
    "        random_color_jitter,\n",
    "        random_gray,\n",
    "        random_gaussian_blur        \n",
    "    ])\n",
    "    raise image_transform\n",
    "    \n",
    "class ContrastiveLearningViewGenerator(object):\n",
    "    def __init__(self, base_transform, n_views = 2):\n",
    "        self.base_transform = base_transform\n",
    "        self.n_views = n_views\n",
    "        \n",
    "    def __call__(self, x):\n",
    "        views = [self.base_transform(x) for i in range(self.n_views)]\n",
    "        return views"
   ]
  },
  {
   "cell_type": "markdown",
   "id": "9808b99c-fff7-4557-a91f-0a6fd76d7d46",
   "metadata": {},
   "source": [
    "### Prepare Data\n",
    "\n",
    "* _torch.utils.data_ is the main class which help us in loading the data and iterating over it\n",
    "* **torch.utils.data.DataSet** -> helps encapsulating raw data\n",
    "* **torch.utils.data.DataLoader** -> helps iterating over the dataset"
   ]
  },
  {
   "cell_type": "code",
   "execution_count": null,
   "id": "0240381f-cf9c-42c2-909f-0b176875220b",
   "metadata": {},
   "outputs": [],
   "source": []
  }
 ],
 "metadata": {
  "kernelspec": {
   "display_name": "Python 3 (ipykernel)",
   "language": "python",
   "name": "python3"
  },
  "language_info": {
   "codemirror_mode": {
    "name": "ipython",
    "version": 3
   },
   "file_extension": ".py",
   "mimetype": "text/x-python",
   "name": "python",
   "nbconvert_exporter": "python",
   "pygments_lexer": "ipython3",
   "version": "3.10.7"
  }
 },
 "nbformat": 4,
 "nbformat_minor": 5
}
